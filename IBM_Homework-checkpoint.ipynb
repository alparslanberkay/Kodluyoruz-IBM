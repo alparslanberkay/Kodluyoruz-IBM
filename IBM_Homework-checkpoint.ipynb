{
 "cells": [
  {
   "cell_type": "code",
   "execution_count": 2,
   "id": "4b64462a",
   "metadata": {},
   "outputs": [
    {
     "name": "stdout",
     "output_type": "stream",
     "text": [
      "Merhaba bu benim Python Uygulama 2 ödevim\n"
     ]
    }
   ],
   "source": [
    "print(\"Merhaba bu benim Python Uygulama 2 ödevim\")"
   ]
  },
  {
   "cell_type": "code",
   "execution_count": null,
   "id": "5a41094b",
   "metadata": {},
   "outputs": [],
   "source": [
    "import math\n",
    "\n",
    "# Öklid mesafesi hesaplama fonksiyonu\n",
    "def euclideanDistance(point1, point2):\n",
    "    return math.sqrt((point2[0] - point1[0])**2 + (point2[1] - point1[1])**2)\n",
    "\n",
    "# 2D uzaydaki noktaları temsil eden liste\n",
    "points = [(1, 2), (3, 4), (5, 6), (7, 8)]\n",
    "\n",
    "# Mesafeleri saklamak için liste\n",
    "distances = []\n",
    "\n",
    "# Her nokta çifti arasındaki mesafeyi hesaplama\n",
    "for i in range(len(points)):\n",
    "    for j in range(i + 1, len(points)):\n",
    "        distance = euclideanDistance(points[i], points[j])\n",
    "        distances.append(distance)\n",
    "\n",
    "# Minimum mesafeyi bulma\n",
    "min_distance = min(distances)\n",
    "\n",
    "# Sonuçları yazdırma\n",
    "print(\"Points:\", points)\n",
    "print(\"Distances:\", distances)\n",
    "print(\"Minimum Distance:\", min_distance)\n"
   ]
  }
 ],
 "metadata": {
  "kernelspec": {
   "display_name": "Python 3 (ipykernel)",
   "language": "python",
   "name": "python3"
  },
  "language_info": {
   "codemirror_mode": {
    "name": "ipython",
    "version": 3
   },
   "file_extension": ".py",
   "mimetype": "text/x-python",
   "name": "python",
   "nbconvert_exporter": "python",
   "pygments_lexer": "ipython3",
   "version": "3.11.5"
  }
 },
 "nbformat": 4,
 "nbformat_minor": 5
}
